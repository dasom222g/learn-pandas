{
  "nbformat": 4,
  "nbformat_minor": 0,
  "metadata": {
    "colab": {
      "provenance": [],
      "include_colab_link": true
    },
    "kernelspec": {
      "name": "python3",
      "display_name": "Python 3"
    },
    "language_info": {
      "name": "python"
    }
  },
  "cells": [
    {
      "cell_type": "markdown",
      "metadata": {
        "id": "view-in-github",
        "colab_type": "text"
      },
      "source": [
        "<a href=\"https://colab.research.google.com/github/dasom222g/learn-pandas/blob/main/2%EC%9B%94_2%EC%A3%BC%EC%B0%A8_%ED%80%B4%EC%A6%88(%EC%A0%9C%EC%96%B4%EB%AC%B8_%EC%9C%A0%ED%98%959%2C19).ipynb\" target=\"_parent\"><img src=\"https://colab.research.google.com/assets/colab-badge.svg\" alt=\"Open In Colab\"/></a>"
      ]
    },
    {
      "cell_type": "markdown",
      "source": [
        "### 문제 22\n",
        "아래와 같은 결과가 나오도록 코드를 작성해보세요.\n",
        "\n",
        "\n",
        "\n",
        "```\n",
        "     *\n",
        "    ***\n",
        "   *****\n",
        "  *******\n",
        " *********\n",
        "***********\n",
        "```\n",
        "\n"
      ],
      "metadata": {
        "id": "6tUi84oO6bz5"
      }
    },
    {
      "cell_type": "code",
      "source": [
        "row = 6\n",
        "\n",
        "for i in range(row):\n",
        "  # print('*' * (i+1))\n",
        "  # print(' '* i + '*' * i + ' ')\n",
        "  star_count = (2*i)+1 # 갈수록 증가\n",
        "  gap_count = row - i # 갈수록 감소\n",
        "  print(f' ' * gap_count + '*' * star_count)"
      ],
      "metadata": {
        "id": "BTFwJtRyP6Ol",
        "outputId": "0403fc16-e6cd-4781-89c0-0f8ce3082008",
        "colab": {
          "base_uri": "https://localhost:8080/"
        }
      },
      "execution_count": 3,
      "outputs": [
        {
          "output_type": "stream",
          "name": "stdout",
          "text": [
            "      *\n",
            "     ***\n",
            "    *****\n",
            "   *******\n",
            "  *********\n",
            " ***********\n"
          ]
        }
      ]
    },
    {
      "cell_type": "markdown",
      "source": [
        "### 문제 24\n",
        "matrix = [[1, 2, 3], [4, 5, 6], [7, 8, 9]]일 때 이중 리스트 안의 원소들의 값을 +2씩 증가하여 출력해보세요."
      ],
      "metadata": {
        "id": "s3dcJ16A6bz6"
      }
    },
    {
      "cell_type": "code",
      "source": [
        "import numpy as np\n",
        "\n",
        "matrix = [[1, 2, 3], [4, 5, 6], [7, 8, 9]]\n",
        "# array = np.array(matrix)\n",
        "# array + 2\n",
        "\n",
        "result = []\n",
        "\n",
        "for i in matrix:\n",
        "  add_list = [j + 2 for j in i ]\n",
        "  result.append(add_list)\n",
        "\n",
        "\n",
        "result\n"
      ],
      "metadata": {
        "id": "H8iAoeMcQzwO",
        "outputId": "6d3279e6-3ee3-4e72-f25e-b00689a24a65",
        "colab": {
          "base_uri": "https://localhost:8080/"
        }
      },
      "execution_count": null,
      "outputs": [
        {
          "output_type": "execute_result",
          "data": {
            "text/plain": [
              "[[3, 4, 5], [6, 7, 8], [9, 10, 11]]"
            ]
          },
          "metadata": {},
          "execution_count": 20
        }
      ]
    },
    {
      "cell_type": "markdown",
      "source": [
        "### 문제 29\n",
        "file_path변수에는 이미지 파일이 저장된 디렉토리 경로가 저장되어 있고,\n",
        "\n",
        "image_files리스트에는 이미지 파일 이름이 포함된 하위 리스트들이 저장되어 있습니다.\n",
        "\n",
        "주어진 파일 경로와 이미지 파일 이름을 조합하여 새로운 경로를 생성하는 코드를 작성해보세요.\n",
        "\n",
        "\n",
        "```\n",
        "airpalne_01\n",
        "airplane_02\n",
        "cat_01\n",
        "cat_02\n",
        "```\n",
        "\n"
      ],
      "metadata": {
        "id": "yPJ4WcoWxr8N"
      }
    },
    {
      "cell_type": "code",
      "source": [
        "file_path = '/content/image'\n",
        "image_files = [['airpalne_01.jpg', 'airplane_02.jpg'], ['cat_01.jpg', 'cat_02.jpg']]\n",
        "\n",
        "result = []\n",
        "\n",
        "for image_list in image_files:\n",
        "  for image in image_list:\n",
        "    result.append(file_path + image)\n",
        "\n",
        "result"
      ],
      "metadata": {
        "id": "KzxtRQEQ8VkM",
        "outputId": "24058be1-8846-426e-cd68-b23f43786d48",
        "colab": {
          "base_uri": "https://localhost:8080/"
        }
      },
      "execution_count": null,
      "outputs": [
        {
          "output_type": "execute_result",
          "data": {
            "text/plain": [
              "['/content/imageairpalne_01.jpg',\n",
              " '/content/imageairplane_02.jpg',\n",
              " '/content/imagecat_01.jpg',\n",
              " '/content/imagecat_02.jpg']"
            ]
          },
          "metadata": {},
          "execution_count": 21
        }
      ]
    },
    {
      "cell_type": "markdown",
      "source": [
        "### 문제 30\n",
        "image_paths는 이미지 파일의 경로가 저장된 리스트이고, image_sizes는 해당 이미지 파일의 크기가 저장된 리스트입니다.\n",
        "\n",
        "주어진 두 개의 리스트에서 파일 경로와 크기를 추출하여 새로운 리스트를 생성하는 코드를 작성해보세요.\n",
        "\n",
        "\n",
        "\n",
        "```\n",
        "[['flower_01.jpg', (256, 256)], ['flower_02.jpg', (228, 228)], ['flower_03.jpg', (512, 512)], ['flower_04.jpg', (128, 128)]]\n",
        "```\n",
        "\n"
      ],
      "metadata": {
        "id": "55q0KeG6xs_4"
      }
    },
    {
      "cell_type": "code",
      "source": [
        "image_paths = [['flower_01.jpg', 'flower_02.jpg'], ['flower_03.jpg', 'flower_04.jpg']]\n",
        "image_sizes = [[(256, 256), (228, 228)], [(512, 512), (128, 128)]]\n",
        "\n",
        "result = []\n",
        "\n",
        "for i, path_list in enumerate(image_paths):\n",
        "  for j, path in enumerate(path_list):\n",
        "    size = image_sizes[i][j]\n",
        "    result.append([path, size])\n",
        "\n",
        "result"
      ],
      "metadata": {
        "id": "nRH48meM8Wcu",
        "outputId": "69a3f12a-6de1-46cd-b1fc-e9af0de4a114",
        "colab": {
          "base_uri": "https://localhost:8080/"
        }
      },
      "execution_count": null,
      "outputs": [
        {
          "output_type": "execute_result",
          "data": {
            "text/plain": [
              "[['flower_01.jpg', (256, 256)],\n",
              " ['flower_02.jpg', (228, 228)],\n",
              " ['flower_03.jpg', (512, 512)],\n",
              " ['flower_04.jpg', (128, 128)]]"
            ]
          },
          "metadata": {},
          "execution_count": 29
        }
      ]
    }
  ]
}